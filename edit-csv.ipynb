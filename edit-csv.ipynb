{
 "cells": [
  {
   "cell_type": "code",
   "execution_count": 1,
   "metadata": {},
   "outputs": [],
   "source": [
    "import pandas as pd\n",
    "from sklearn.utils import shuffle\n",
    "import numpy as np\n",
    "from matplotlib import pyplot as plt"
   ]
  },
  {
   "cell_type": "code",
   "execution_count": 2,
   "metadata": {},
   "outputs": [],
   "source": [
    "df = pd.read_csv('driving_log.csv', names=['center', 'left', 'right', 'steering', 'throttle', 'reverse', 'speed'])"
   ]
  },
  {
   "cell_type": "code",
   "execution_count": 3,
   "metadata": {},
   "outputs": [
    {
     "data": {
      "text/html": [
       "<div>\n",
       "<style scoped>\n",
       "    .dataframe tbody tr th:only-of-type {\n",
       "        vertical-align: middle;\n",
       "    }\n",
       "\n",
       "    .dataframe tbody tr th {\n",
       "        vertical-align: top;\n",
       "    }\n",
       "\n",
       "    .dataframe thead th {\n",
       "        text-align: right;\n",
       "    }\n",
       "</style>\n",
       "<table border=\"1\" class=\"dataframe\">\n",
       "  <thead>\n",
       "    <tr style=\"text-align: right;\">\n",
       "      <th></th>\n",
       "      <th>center</th>\n",
       "      <th>left</th>\n",
       "      <th>right</th>\n",
       "      <th>steering</th>\n",
       "      <th>throttle</th>\n",
       "      <th>reverse</th>\n",
       "      <th>speed</th>\n",
       "    </tr>\n",
       "  </thead>\n",
       "  <tbody>\n",
       "    <tr>\n",
       "      <th>0</th>\n",
       "      <td>./IMG/center_2018_07_16_17_11_43_724.jpg</td>\n",
       "      <td>./IMG/left_2018_07_16_17_11_43_724.jpg</td>\n",
       "      <td>./IMG/right_2018_07_16_17_11_43_724.jpg</td>\n",
       "      <td>0.00</td>\n",
       "      <td>0.000000</td>\n",
       "      <td>0.0</td>\n",
       "      <td>0.622910</td>\n",
       "    </tr>\n",
       "    <tr>\n",
       "      <th>1</th>\n",
       "      <td>./IMG/center_2018_07_16_17_11_43_792.jpg</td>\n",
       "      <td>./IMG/left_2018_07_16_17_11_43_792.jpg</td>\n",
       "      <td>./IMG/right_2018_07_16_17_11_43_792.jpg</td>\n",
       "      <td>0.00</td>\n",
       "      <td>0.000000</td>\n",
       "      <td>0.0</td>\n",
       "      <td>0.619162</td>\n",
       "    </tr>\n",
       "    <tr>\n",
       "      <th>2</th>\n",
       "      <td>./IMG/center_2018_07_16_17_11_43_930.jpg</td>\n",
       "      <td>./IMG/left_2018_07_16_17_11_43_930.jpg</td>\n",
       "      <td>./IMG/right_2018_07_16_17_11_43_930.jpg</td>\n",
       "      <td>0.00</td>\n",
       "      <td>0.000000</td>\n",
       "      <td>0.0</td>\n",
       "      <td>0.610506</td>\n",
       "    </tr>\n",
       "    <tr>\n",
       "      <th>3</th>\n",
       "      <td>./IMG/center_2018_07_16_17_11_44_413.jpg</td>\n",
       "      <td>./IMG/left_2018_07_16_17_11_44_413.jpg</td>\n",
       "      <td>./IMG/right_2018_07_16_17_11_44_413.jpg</td>\n",
       "      <td>-0.05</td>\n",
       "      <td>0.642727</td>\n",
       "      <td>0.0</td>\n",
       "      <td>1.434013</td>\n",
       "    </tr>\n",
       "    <tr>\n",
       "      <th>4</th>\n",
       "      <td>./IMG/center_2018_07_16_17_11_44_485.jpg</td>\n",
       "      <td>./IMG/left_2018_07_16_17_11_44_485.jpg</td>\n",
       "      <td>./IMG/right_2018_07_16_17_11_44_485.jpg</td>\n",
       "      <td>-0.25</td>\n",
       "      <td>0.863326</td>\n",
       "      <td>0.0</td>\n",
       "      <td>2.173052</td>\n",
       "    </tr>\n",
       "  </tbody>\n",
       "</table>\n",
       "</div>"
      ],
      "text/plain": [
       "                                     center  \\\n",
       "0  ./IMG/center_2018_07_16_17_11_43_724.jpg   \n",
       "1  ./IMG/center_2018_07_16_17_11_43_792.jpg   \n",
       "2  ./IMG/center_2018_07_16_17_11_43_930.jpg   \n",
       "3  ./IMG/center_2018_07_16_17_11_44_413.jpg   \n",
       "4  ./IMG/center_2018_07_16_17_11_44_485.jpg   \n",
       "\n",
       "                                     left  \\\n",
       "0  ./IMG/left_2018_07_16_17_11_43_724.jpg   \n",
       "1  ./IMG/left_2018_07_16_17_11_43_792.jpg   \n",
       "2  ./IMG/left_2018_07_16_17_11_43_930.jpg   \n",
       "3  ./IMG/left_2018_07_16_17_11_44_413.jpg   \n",
       "4  ./IMG/left_2018_07_16_17_11_44_485.jpg   \n",
       "\n",
       "                                     right  steering  throttle  reverse  \\\n",
       "0  ./IMG/right_2018_07_16_17_11_43_724.jpg      0.00  0.000000      0.0   \n",
       "1  ./IMG/right_2018_07_16_17_11_43_792.jpg      0.00  0.000000      0.0   \n",
       "2  ./IMG/right_2018_07_16_17_11_43_930.jpg      0.00  0.000000      0.0   \n",
       "3  ./IMG/right_2018_07_16_17_11_44_413.jpg     -0.05  0.642727      0.0   \n",
       "4  ./IMG/right_2018_07_16_17_11_44_485.jpg     -0.25  0.863326      0.0   \n",
       "\n",
       "      speed  \n",
       "0  0.622910  \n",
       "1  0.619162  \n",
       "2  0.610506  \n",
       "3  1.434013  \n",
       "4  2.173052  "
      ]
     },
     "execution_count": 3,
     "metadata": {},
     "output_type": "execute_result"
    }
   ],
   "source": [
    "df.head()"
   ]
  },
  {
   "cell_type": "code",
   "execution_count": 4,
   "metadata": {},
   "outputs": [
    {
     "name": "stdout",
     "output_type": "stream",
     "text": [
      "1463\n"
     ]
    }
   ],
   "source": [
    "df.columns\n",
    "print(len(df))"
   ]
  },
  {
   "cell_type": "code",
   "execution_count": 5,
   "metadata": {},
   "outputs": [
    {
     "data": {
      "text/plain": [
       "pandas.core.series.Series"
      ]
     },
     "execution_count": 5,
     "metadata": {},
     "output_type": "execute_result"
    }
   ],
   "source": [
    "type(df['center'])"
   ]
  },
  {
   "cell_type": "code",
   "execution_count": 6,
   "metadata": {},
   "outputs": [],
   "source": [
    "cols = ['center', 'left', 'right']\n",
    "df[cols] = df[cols].apply(lambda col: col.str.replace(r\"C:\\\\Users\\\\Amer\\\\Desktop\\\\new_track\", \".\"))\n",
    "df[cols] = df[cols].apply(lambda col: col.str.replace(r\"\\\\\", \"/\"))"
   ]
  },
  {
   "cell_type": "code",
   "execution_count": 7,
   "metadata": {},
   "outputs": [
    {
     "data": {
      "text/html": [
       "<div>\n",
       "<style scoped>\n",
       "    .dataframe tbody tr th:only-of-type {\n",
       "        vertical-align: middle;\n",
       "    }\n",
       "\n",
       "    .dataframe tbody tr th {\n",
       "        vertical-align: top;\n",
       "    }\n",
       "\n",
       "    .dataframe thead th {\n",
       "        text-align: right;\n",
       "    }\n",
       "</style>\n",
       "<table border=\"1\" class=\"dataframe\">\n",
       "  <thead>\n",
       "    <tr style=\"text-align: right;\">\n",
       "      <th></th>\n",
       "      <th>center</th>\n",
       "      <th>left</th>\n",
       "      <th>right</th>\n",
       "      <th>steering</th>\n",
       "      <th>throttle</th>\n",
       "      <th>reverse</th>\n",
       "      <th>speed</th>\n",
       "    </tr>\n",
       "  </thead>\n",
       "  <tbody>\n",
       "    <tr>\n",
       "      <th>0</th>\n",
       "      <td>./IMG/center_2018_07_16_17_11_43_724.jpg</td>\n",
       "      <td>./IMG/left_2018_07_16_17_11_43_724.jpg</td>\n",
       "      <td>./IMG/right_2018_07_16_17_11_43_724.jpg</td>\n",
       "      <td>0.00</td>\n",
       "      <td>0.000000</td>\n",
       "      <td>0.0</td>\n",
       "      <td>0.622910</td>\n",
       "    </tr>\n",
       "    <tr>\n",
       "      <th>1</th>\n",
       "      <td>./IMG/center_2018_07_16_17_11_43_792.jpg</td>\n",
       "      <td>./IMG/left_2018_07_16_17_11_43_792.jpg</td>\n",
       "      <td>./IMG/right_2018_07_16_17_11_43_792.jpg</td>\n",
       "      <td>0.00</td>\n",
       "      <td>0.000000</td>\n",
       "      <td>0.0</td>\n",
       "      <td>0.619162</td>\n",
       "    </tr>\n",
       "    <tr>\n",
       "      <th>2</th>\n",
       "      <td>./IMG/center_2018_07_16_17_11_43_930.jpg</td>\n",
       "      <td>./IMG/left_2018_07_16_17_11_43_930.jpg</td>\n",
       "      <td>./IMG/right_2018_07_16_17_11_43_930.jpg</td>\n",
       "      <td>0.00</td>\n",
       "      <td>0.000000</td>\n",
       "      <td>0.0</td>\n",
       "      <td>0.610506</td>\n",
       "    </tr>\n",
       "    <tr>\n",
       "      <th>3</th>\n",
       "      <td>./IMG/center_2018_07_16_17_11_44_413.jpg</td>\n",
       "      <td>./IMG/left_2018_07_16_17_11_44_413.jpg</td>\n",
       "      <td>./IMG/right_2018_07_16_17_11_44_413.jpg</td>\n",
       "      <td>-0.05</td>\n",
       "      <td>0.642727</td>\n",
       "      <td>0.0</td>\n",
       "      <td>1.434013</td>\n",
       "    </tr>\n",
       "    <tr>\n",
       "      <th>4</th>\n",
       "      <td>./IMG/center_2018_07_16_17_11_44_485.jpg</td>\n",
       "      <td>./IMG/left_2018_07_16_17_11_44_485.jpg</td>\n",
       "      <td>./IMG/right_2018_07_16_17_11_44_485.jpg</td>\n",
       "      <td>-0.25</td>\n",
       "      <td>0.863326</td>\n",
       "      <td>0.0</td>\n",
       "      <td>2.173052</td>\n",
       "    </tr>\n",
       "  </tbody>\n",
       "</table>\n",
       "</div>"
      ],
      "text/plain": [
       "                                     center  \\\n",
       "0  ./IMG/center_2018_07_16_17_11_43_724.jpg   \n",
       "1  ./IMG/center_2018_07_16_17_11_43_792.jpg   \n",
       "2  ./IMG/center_2018_07_16_17_11_43_930.jpg   \n",
       "3  ./IMG/center_2018_07_16_17_11_44_413.jpg   \n",
       "4  ./IMG/center_2018_07_16_17_11_44_485.jpg   \n",
       "\n",
       "                                     left  \\\n",
       "0  ./IMG/left_2018_07_16_17_11_43_724.jpg   \n",
       "1  ./IMG/left_2018_07_16_17_11_43_792.jpg   \n",
       "2  ./IMG/left_2018_07_16_17_11_43_930.jpg   \n",
       "3  ./IMG/left_2018_07_16_17_11_44_413.jpg   \n",
       "4  ./IMG/left_2018_07_16_17_11_44_485.jpg   \n",
       "\n",
       "                                     right  steering  throttle  reverse  \\\n",
       "0  ./IMG/right_2018_07_16_17_11_43_724.jpg      0.00  0.000000      0.0   \n",
       "1  ./IMG/right_2018_07_16_17_11_43_792.jpg      0.00  0.000000      0.0   \n",
       "2  ./IMG/right_2018_07_16_17_11_43_930.jpg      0.00  0.000000      0.0   \n",
       "3  ./IMG/right_2018_07_16_17_11_44_413.jpg     -0.05  0.642727      0.0   \n",
       "4  ./IMG/right_2018_07_16_17_11_44_485.jpg     -0.25  0.863326      0.0   \n",
       "\n",
       "      speed  \n",
       "0  0.622910  \n",
       "1  0.619162  \n",
       "2  0.610506  \n",
       "3  1.434013  \n",
       "4  2.173052  "
      ]
     },
     "execution_count": 7,
     "metadata": {},
     "output_type": "execute_result"
    }
   ],
   "source": [
    "df.head()"
   ]
  },
  {
   "cell_type": "code",
   "execution_count": 8,
   "metadata": {},
   "outputs": [],
   "source": [
    "df.to_csv(r'.\\driving_log.csv', header=False, index=False)"
   ]
  },
  {
   "cell_type": "code",
   "execution_count": 9,
   "metadata": {},
   "outputs": [
    {
     "data": {
      "text/html": [
       "<div>\n",
       "<style scoped>\n",
       "    .dataframe tbody tr th:only-of-type {\n",
       "        vertical-align: middle;\n",
       "    }\n",
       "\n",
       "    .dataframe tbody tr th {\n",
       "        vertical-align: top;\n",
       "    }\n",
       "\n",
       "    .dataframe thead th {\n",
       "        text-align: right;\n",
       "    }\n",
       "</style>\n",
       "<table border=\"1\" class=\"dataframe\">\n",
       "  <thead>\n",
       "    <tr style=\"text-align: right;\">\n",
       "      <th></th>\n",
       "      <th>center</th>\n",
       "      <th>left</th>\n",
       "      <th>right</th>\n",
       "      <th>steering</th>\n",
       "      <th>throttle</th>\n",
       "      <th>reverse</th>\n",
       "      <th>speed</th>\n",
       "    </tr>\n",
       "  </thead>\n",
       "  <tbody>\n",
       "    <tr>\n",
       "      <th>0</th>\n",
       "      <td>./IMG/center_2018_07_16_17_11_43_724.jpg</td>\n",
       "      <td>./IMG/left_2018_07_16_17_11_43_724.jpg</td>\n",
       "      <td>./IMG/right_2018_07_16_17_11_43_724.jpg</td>\n",
       "      <td>0.00</td>\n",
       "      <td>0.000000</td>\n",
       "      <td>0.0</td>\n",
       "      <td>0.622910</td>\n",
       "    </tr>\n",
       "    <tr>\n",
       "      <th>1</th>\n",
       "      <td>./IMG/center_2018_07_16_17_11_43_792.jpg</td>\n",
       "      <td>./IMG/left_2018_07_16_17_11_43_792.jpg</td>\n",
       "      <td>./IMG/right_2018_07_16_17_11_43_792.jpg</td>\n",
       "      <td>0.00</td>\n",
       "      <td>0.000000</td>\n",
       "      <td>0.0</td>\n",
       "      <td>0.619162</td>\n",
       "    </tr>\n",
       "    <tr>\n",
       "      <th>2</th>\n",
       "      <td>./IMG/center_2018_07_16_17_11_43_930.jpg</td>\n",
       "      <td>./IMG/left_2018_07_16_17_11_43_930.jpg</td>\n",
       "      <td>./IMG/right_2018_07_16_17_11_43_930.jpg</td>\n",
       "      <td>0.00</td>\n",
       "      <td>0.000000</td>\n",
       "      <td>0.0</td>\n",
       "      <td>0.610506</td>\n",
       "    </tr>\n",
       "    <tr>\n",
       "      <th>3</th>\n",
       "      <td>./IMG/center_2018_07_16_17_11_44_413.jpg</td>\n",
       "      <td>./IMG/left_2018_07_16_17_11_44_413.jpg</td>\n",
       "      <td>./IMG/right_2018_07_16_17_11_44_413.jpg</td>\n",
       "      <td>-0.05</td>\n",
       "      <td>0.642727</td>\n",
       "      <td>0.0</td>\n",
       "      <td>1.434013</td>\n",
       "    </tr>\n",
       "    <tr>\n",
       "      <th>4</th>\n",
       "      <td>./IMG/center_2018_07_16_17_11_44_485.jpg</td>\n",
       "      <td>./IMG/left_2018_07_16_17_11_44_485.jpg</td>\n",
       "      <td>./IMG/right_2018_07_16_17_11_44_485.jpg</td>\n",
       "      <td>-0.25</td>\n",
       "      <td>0.863326</td>\n",
       "      <td>0.0</td>\n",
       "      <td>2.173052</td>\n",
       "    </tr>\n",
       "  </tbody>\n",
       "</table>\n",
       "</div>"
      ],
      "text/plain": [
       "                                     center  \\\n",
       "0  ./IMG/center_2018_07_16_17_11_43_724.jpg   \n",
       "1  ./IMG/center_2018_07_16_17_11_43_792.jpg   \n",
       "2  ./IMG/center_2018_07_16_17_11_43_930.jpg   \n",
       "3  ./IMG/center_2018_07_16_17_11_44_413.jpg   \n",
       "4  ./IMG/center_2018_07_16_17_11_44_485.jpg   \n",
       "\n",
       "                                     left  \\\n",
       "0  ./IMG/left_2018_07_16_17_11_43_724.jpg   \n",
       "1  ./IMG/left_2018_07_16_17_11_43_792.jpg   \n",
       "2  ./IMG/left_2018_07_16_17_11_43_930.jpg   \n",
       "3  ./IMG/left_2018_07_16_17_11_44_413.jpg   \n",
       "4  ./IMG/left_2018_07_16_17_11_44_485.jpg   \n",
       "\n",
       "                                     right  steering  throttle  reverse  \\\n",
       "0  ./IMG/right_2018_07_16_17_11_43_724.jpg      0.00  0.000000      0.0   \n",
       "1  ./IMG/right_2018_07_16_17_11_43_792.jpg      0.00  0.000000      0.0   \n",
       "2  ./IMG/right_2018_07_16_17_11_43_930.jpg      0.00  0.000000      0.0   \n",
       "3  ./IMG/right_2018_07_16_17_11_44_413.jpg     -0.05  0.642727      0.0   \n",
       "4  ./IMG/right_2018_07_16_17_11_44_485.jpg     -0.25  0.863326      0.0   \n",
       "\n",
       "      speed  \n",
       "0  0.622910  \n",
       "1  0.619162  \n",
       "2  0.610506  \n",
       "3  1.434013  \n",
       "4  2.173052  "
      ]
     },
     "execution_count": 9,
     "metadata": {},
     "output_type": "execute_result"
    }
   ],
   "source": [
    "df.head()"
   ]
  },
  {
   "cell_type": "code",
   "execution_count": 10,
   "metadata": {},
   "outputs": [
    {
     "data": {
      "text/plain": [
       "[<matplotlib.lines.Line2D at 0x20bf4928160>]"
      ]
     },
     "execution_count": 10,
     "metadata": {},
     "output_type": "execute_result"
    },
    {
     "data": {
      "image/png": "[encoded data removed]",
      "text/plain": [
       "<Figure size 432x288 with 1 Axes>"
      ]
     },
     "metadata": {
      "needs_background": "light"
     },
     "output_type": "display_data"
    }
   ],
   "source": [
    "num_bins = 25\n",
    "sample_limit = 400\n",
    "hist,bins = np.histogram(df['steering'], num_bins)\n",
    "center = (bins[:-1] + bins[1:]) * 0.5\n",
    "plt.bar(center,hist , width=0.05)\n",
    "plt.grid(axis='both')\n",
    "plt.plot((np.min(df['steering']), np.max(df['steering'])), (sample_limit, sample_limit), color='r')"
   ]
  },
  {
   "cell_type": "code",
   "execution_count": 11,
   "metadata": {},
   "outputs": [
    {
     "name": "stdout",
     "output_type": "stream",
     "text": [
      "total data:  1463\n",
      "removed:  0\n",
      "remaining:  1463\n"
     ]
    },
    {
     "data": {
      "text/plain": [
       "[<matplotlib.lines.Line2D at 0x20bf4a6df70>]"
      ]
     },
     "execution_count": 11,
     "metadata": {},
     "output_type": "execute_result"
    },
    {
     "data": {
      "image/png": "[encoded data removed]",
      "text/plain": [
       "<Figure size 432x288 with 1 Axes>"
      ]
     },
     "metadata": {
      "needs_background": "light"
     },
     "output_type": "display_data"
    }
   ],
   "source": [
    "print('total data: ', len(df))\n",
    "remove_list = []\n",
    "for j in range(num_bins):\n",
    "    list_ = []\n",
    "    for i in range(len(df['steering'])):\n",
    "        if (df['steering'][i] >= bins[j] and df['steering'][i] <= bins[j+1]):\n",
    "            list_.append(i)\n",
    "    list_ = shuffle(list_)\n",
    "    list_ = list_[sample_limit:]\n",
    "    remove_list.extend(list_)\n",
    "print('removed: ', len(remove_list))\n",
    "df.drop(df.index[remove_list], inplace = True)\n",
    "print('remaining: ' , len(df))\n",
    "            \n",
    "hist,_ = np.histogram(df['steering'],num_bins)\n",
    "plt.bar(center,hist , width = 0.05)\n",
    "plt.grid(axis = 'both')\n",
    "plt.plot((np.min(df['steering']),np.max(df['steering'])), (sample_limit,sample_limit), color = 'g')"
   ]
  },
  {
   "cell_type": "code",
   "execution_count": 12,
   "metadata": {},
   "outputs": [],
   "source": [
    "df.to_csv(r'.\\driving_log.csv', header=False, index=False)"
   ]
  },
  {
   "cell_type": "code",
   "execution_count": null,
   "metadata": {},
   "outputs": [],
   "source": []
  }
 ],
 "metadata": {
  "kernelspec": {
   "display_name": "Python 3",
   "language": "python",
   "name": "python3"
  },
  "language_info": {
   "codemirror_mode": {
    "name": "ipython",
    "version": 3
   },
   "file_extension": ".py",
   "mimetype": "text/x-python",
   "name": "python",
   "nbconvert_exporter": "python",
   "pygments_lexer": "ipython3",
   "version": "3.8.6"
  }
 },
 "nbformat": 4,
 "nbformat_minor": 4
}
